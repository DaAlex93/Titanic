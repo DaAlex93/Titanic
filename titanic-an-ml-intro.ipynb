{
 "cells": [
  {
   "cell_type": "markdown",
   "metadata": {
    "papermill": {
     "duration": 0.024404,
     "end_time": "2020-10-31T07:08:25.884684",
     "exception": false,
     "start_time": "2020-10-31T07:08:25.860280",
     "status": "completed"
    },
    "tags": []
   },
   "source": [
    "**For my initial steps into the ML and Kaggle world, what better way to begin than with the one and only Titanic dataset.**"
   ]
  },
  {
   "cell_type": "code",
   "execution_count": 1,
   "metadata": {
    "_cell_guid": "b1076dfc-b9ad-4769-8c92-a6c4dae69d19",
    "_uuid": "8f2839f25d086af736a60e9eeb907d3b93b6e0e5",
    "execution": {
     "iopub.execute_input": "2020-10-31T07:08:25.936063Z",
     "iopub.status.busy": "2020-10-31T07:08:25.935315Z",
     "iopub.status.idle": "2020-10-31T07:08:27.397775Z",
     "shell.execute_reply": "2020-10-31T07:08:27.396912Z"
    },
    "papermill": {
     "duration": 1.490746,
     "end_time": "2020-10-31T07:08:27.397923",
     "exception": false,
     "start_time": "2020-10-31T07:08:25.907177",
     "status": "completed"
    },
    "tags": []
   },
   "outputs": [],
   "source": [
    "import numpy as np # linear algebra\n",
    "import pandas as pd # data processing, CSV file I/O (e.g. pd.read_csv)\n",
    "import matplotlib.pyplot as plt\n",
    "import seaborn as sns\n",
    "from sklearn.linear_model import LogisticRegression\n",
    "from sklearn.ensemble import RandomForestClassifier\n",
    "import os"
   ]
  },
  {
   "cell_type": "code",
   "execution_count": 2,
   "metadata": {
    "execution": {
     "iopub.execute_input": "2020-10-31T07:08:27.451259Z",
     "iopub.status.busy": "2020-10-31T07:08:27.450343Z",
     "iopub.status.idle": "2020-10-31T07:08:27.455599Z",
     "shell.execute_reply": "2020-10-31T07:08:27.454925Z"
    },
    "papermill": {
     "duration": 0.033233,
     "end_time": "2020-10-31T07:08:27.455726",
     "exception": false,
     "start_time": "2020-10-31T07:08:27.422493",
     "status": "completed"
    },
    "tags": []
   },
   "outputs": [
    {
     "name": "stdout",
     "output_type": "stream",
     "text": [
      "/kaggle/input/titanic/gender_submission.csv\n",
      "/kaggle/input/titanic/test.csv\n",
      "/kaggle/input/titanic/train.csv\n"
     ]
    }
   ],
   "source": [
    "for dirname, _, filenames in os.walk('/kaggle/input'):\n",
    "    for filename in filenames:\n",
    "        print(os.path.join(dirname, filename))"
   ]
  },
  {
   "cell_type": "code",
   "execution_count": 3,
   "metadata": {
    "_cell_guid": "79c7e3d0-c299-4dcb-8224-4455121ee9b0",
    "_uuid": "d629ff2d2480ee46fbb7e2d37f6b5fab8052498a",
    "execution": {
     "iopub.execute_input": "2020-10-31T07:08:27.511247Z",
     "iopub.status.busy": "2020-10-31T07:08:27.510467Z",
     "iopub.status.idle": "2020-10-31T07:08:27.547124Z",
     "shell.execute_reply": "2020-10-31T07:08:27.546148Z"
    },
    "papermill": {
     "duration": 0.067818,
     "end_time": "2020-10-31T07:08:27.547303",
     "exception": false,
     "start_time": "2020-10-31T07:08:27.479485",
     "status": "completed"
    },
    "tags": []
   },
   "outputs": [
    {
     "name": "stdout",
     "output_type": "stream",
     "text": [
      "<class 'pandas.core.frame.DataFrame'>\n",
      "RangeIndex: 891 entries, 0 to 890\n",
      "Data columns (total 12 columns):\n",
      " #   Column       Non-Null Count  Dtype  \n",
      "---  ------       --------------  -----  \n",
      " 0   PassengerId  891 non-null    int64  \n",
      " 1   Survived     891 non-null    int64  \n",
      " 2   Pclass       891 non-null    int64  \n",
      " 3   Name         891 non-null    object \n",
      " 4   Sex          891 non-null    object \n",
      " 5   Age          714 non-null    float64\n",
      " 6   SibSp        891 non-null    int64  \n",
      " 7   Parch        891 non-null    int64  \n",
      " 8   Ticket       891 non-null    object \n",
      " 9   Fare         891 non-null    float64\n",
      " 10  Cabin        204 non-null    object \n",
      " 11  Embarked     889 non-null    object \n",
      "dtypes: float64(2), int64(5), object(5)\n",
      "memory usage: 83.7+ KB\n"
     ]
    }
   ],
   "source": [
    "train_data = pd.read_csv(\"/kaggle/input/titanic/train.csv\")\n",
    "test_data = pd.read_csv(\"/kaggle/input/titanic/test.csv\")\n",
    "train_data.info()"
   ]
  },
  {
   "cell_type": "code",
   "execution_count": 4,
   "metadata": {
    "execution": {
     "iopub.execute_input": "2020-10-31T07:08:27.608904Z",
     "iopub.status.busy": "2020-10-31T07:08:27.607790Z",
     "iopub.status.idle": "2020-10-31T07:08:27.620493Z",
     "shell.execute_reply": "2020-10-31T07:08:27.619761Z"
    },
    "papermill": {
     "duration": 0.049161,
     "end_time": "2020-10-31T07:08:27.620614",
     "exception": false,
     "start_time": "2020-10-31T07:08:27.571453",
     "status": "completed"
    },
    "tags": []
   },
   "outputs": [
    {
     "data": {
      "text/html": [
       "<div>\n",
       "<style scoped>\n",
       "    .dataframe tbody tr th:only-of-type {\n",
       "        vertical-align: middle;\n",
       "    }\n",
       "\n",
       "    .dataframe tbody tr th {\n",
       "        vertical-align: top;\n",
       "    }\n",
       "\n",
       "    .dataframe thead th {\n",
       "        text-align: right;\n",
       "    }\n",
       "</style>\n",
       "<table border=\"1\" class=\"dataframe\">\n",
       "  <thead>\n",
       "    <tr style=\"text-align: right;\">\n",
       "      <th></th>\n",
       "      <th>PassengerId</th>\n",
       "      <th>Pclass</th>\n",
       "      <th>Name</th>\n",
       "      <th>Sex</th>\n",
       "      <th>Age</th>\n",
       "      <th>SibSp</th>\n",
       "      <th>Parch</th>\n",
       "      <th>Ticket</th>\n",
       "      <th>Fare</th>\n",
       "      <th>Cabin</th>\n",
       "      <th>Embarked</th>\n",
       "    </tr>\n",
       "  </thead>\n",
       "  <tbody>\n",
       "    <tr>\n",
       "      <th>0</th>\n",
       "      <td>892</td>\n",
       "      <td>3</td>\n",
       "      <td>Kelly, Mr. James</td>\n",
       "      <td>male</td>\n",
       "      <td>34.5</td>\n",
       "      <td>0</td>\n",
       "      <td>0</td>\n",
       "      <td>330911</td>\n",
       "      <td>7.8292</td>\n",
       "      <td>NaN</td>\n",
       "      <td>Q</td>\n",
       "    </tr>\n",
       "    <tr>\n",
       "      <th>1</th>\n",
       "      <td>893</td>\n",
       "      <td>3</td>\n",
       "      <td>Wilkes, Mrs. James (Ellen Needs)</td>\n",
       "      <td>female</td>\n",
       "      <td>47.0</td>\n",
       "      <td>1</td>\n",
       "      <td>0</td>\n",
       "      <td>363272</td>\n",
       "      <td>7.0000</td>\n",
       "      <td>NaN</td>\n",
       "      <td>S</td>\n",
       "    </tr>\n",
       "    <tr>\n",
       "      <th>2</th>\n",
       "      <td>894</td>\n",
       "      <td>2</td>\n",
       "      <td>Myles, Mr. Thomas Francis</td>\n",
       "      <td>male</td>\n",
       "      <td>62.0</td>\n",
       "      <td>0</td>\n",
       "      <td>0</td>\n",
       "      <td>240276</td>\n",
       "      <td>9.6875</td>\n",
       "      <td>NaN</td>\n",
       "      <td>Q</td>\n",
       "    </tr>\n",
       "    <tr>\n",
       "      <th>3</th>\n",
       "      <td>895</td>\n",
       "      <td>3</td>\n",
       "      <td>Wirz, Mr. Albert</td>\n",
       "      <td>male</td>\n",
       "      <td>27.0</td>\n",
       "      <td>0</td>\n",
       "      <td>0</td>\n",
       "      <td>315154</td>\n",
       "      <td>8.6625</td>\n",
       "      <td>NaN</td>\n",
       "      <td>S</td>\n",
       "    </tr>\n",
       "    <tr>\n",
       "      <th>4</th>\n",
       "      <td>896</td>\n",
       "      <td>3</td>\n",
       "      <td>Hirvonen, Mrs. Alexander (Helga E Lindqvist)</td>\n",
       "      <td>female</td>\n",
       "      <td>22.0</td>\n",
       "      <td>1</td>\n",
       "      <td>1</td>\n",
       "      <td>3101298</td>\n",
       "      <td>12.2875</td>\n",
       "      <td>NaN</td>\n",
       "      <td>S</td>\n",
       "    </tr>\n",
       "  </tbody>\n",
       "</table>\n",
       "</div>"
      ],
      "text/plain": [
       "   PassengerId  Pclass                                          Name     Sex  \\\n",
       "0          892       3                              Kelly, Mr. James    male   \n",
       "1          893       3              Wilkes, Mrs. James (Ellen Needs)  female   \n",
       "2          894       2                     Myles, Mr. Thomas Francis    male   \n",
       "3          895       3                              Wirz, Mr. Albert    male   \n",
       "4          896       3  Hirvonen, Mrs. Alexander (Helga E Lindqvist)  female   \n",
       "\n",
       "    Age  SibSp  Parch   Ticket     Fare Cabin Embarked  \n",
       "0  34.5      0      0   330911   7.8292   NaN        Q  \n",
       "1  47.0      1      0   363272   7.0000   NaN        S  \n",
       "2  62.0      0      0   240276   9.6875   NaN        Q  \n",
       "3  27.0      0      0   315154   8.6625   NaN        S  \n",
       "4  22.0      1      1  3101298  12.2875   NaN        S  "
      ]
     },
     "execution_count": 4,
     "metadata": {},
     "output_type": "execute_result"
    }
   ],
   "source": [
    "test_data.head()"
   ]
  },
  {
   "cell_type": "code",
   "execution_count": 5,
   "metadata": {
    "execution": {
     "iopub.execute_input": "2020-10-31T07:08:27.680432Z",
     "iopub.status.busy": "2020-10-31T07:08:27.679584Z",
     "iopub.status.idle": "2020-10-31T07:08:27.684354Z",
     "shell.execute_reply": "2020-10-31T07:08:27.683628Z"
    },
    "papermill": {
     "duration": 0.039065,
     "end_time": "2020-10-31T07:08:27.684474",
     "exception": false,
     "start_time": "2020-10-31T07:08:27.645409",
     "status": "completed"
    },
    "tags": []
   },
   "outputs": [
    {
     "data": {
      "text/plain": [
       "PassengerId      0\n",
       "Pclass           0\n",
       "Name             0\n",
       "Sex              0\n",
       "Age             86\n",
       "SibSp            0\n",
       "Parch            0\n",
       "Ticket           0\n",
       "Fare             1\n",
       "Cabin          327\n",
       "Embarked         0\n",
       "dtype: int64"
      ]
     },
     "execution_count": 5,
     "metadata": {},
     "output_type": "execute_result"
    }
   ],
   "source": [
    "train_data.isnull().sum()\n",
    "test_data.isnull().sum()"
   ]
  },
  {
   "cell_type": "code",
   "execution_count": 6,
   "metadata": {
    "execution": {
     "iopub.execute_input": "2020-10-31T07:08:27.759444Z",
     "iopub.status.busy": "2020-10-31T07:08:27.758330Z",
     "iopub.status.idle": "2020-10-31T07:08:27.762675Z",
     "shell.execute_reply": "2020-10-31T07:08:27.763213Z"
    },
    "papermill": {
     "duration": 0.053602,
     "end_time": "2020-10-31T07:08:27.763416",
     "exception": false,
     "start_time": "2020-10-31T07:08:27.709814",
     "status": "completed"
    },
    "tags": []
   },
   "outputs": [
    {
     "data": {
      "text/html": [
       "<div>\n",
       "<style scoped>\n",
       "    .dataframe tbody tr th:only-of-type {\n",
       "        vertical-align: middle;\n",
       "    }\n",
       "\n",
       "    .dataframe tbody tr th {\n",
       "        vertical-align: top;\n",
       "    }\n",
       "\n",
       "    .dataframe thead th {\n",
       "        text-align: right;\n",
       "    }\n",
       "</style>\n",
       "<table border=\"1\" class=\"dataframe\">\n",
       "  <thead>\n",
       "    <tr style=\"text-align: right;\">\n",
       "      <th></th>\n",
       "      <th>Survived</th>\n",
       "      <th>Pclass</th>\n",
       "      <th>Sex</th>\n",
       "      <th>Age</th>\n",
       "      <th>SibSp</th>\n",
       "      <th>Parch</th>\n",
       "      <th>Fare</th>\n",
       "      <th>Embarked</th>\n",
       "    </tr>\n",
       "  </thead>\n",
       "  <tbody>\n",
       "    <tr>\n",
       "      <th>0</th>\n",
       "      <td>0</td>\n",
       "      <td>3</td>\n",
       "      <td>male</td>\n",
       "      <td>22.0</td>\n",
       "      <td>1</td>\n",
       "      <td>0</td>\n",
       "      <td>7.2500</td>\n",
       "      <td>S</td>\n",
       "    </tr>\n",
       "    <tr>\n",
       "      <th>1</th>\n",
       "      <td>1</td>\n",
       "      <td>1</td>\n",
       "      <td>female</td>\n",
       "      <td>38.0</td>\n",
       "      <td>1</td>\n",
       "      <td>0</td>\n",
       "      <td>71.2833</td>\n",
       "      <td>C</td>\n",
       "    </tr>\n",
       "    <tr>\n",
       "      <th>2</th>\n",
       "      <td>1</td>\n",
       "      <td>3</td>\n",
       "      <td>female</td>\n",
       "      <td>26.0</td>\n",
       "      <td>0</td>\n",
       "      <td>0</td>\n",
       "      <td>7.9250</td>\n",
       "      <td>S</td>\n",
       "    </tr>\n",
       "    <tr>\n",
       "      <th>3</th>\n",
       "      <td>1</td>\n",
       "      <td>1</td>\n",
       "      <td>female</td>\n",
       "      <td>35.0</td>\n",
       "      <td>1</td>\n",
       "      <td>0</td>\n",
       "      <td>53.1000</td>\n",
       "      <td>S</td>\n",
       "    </tr>\n",
       "    <tr>\n",
       "      <th>4</th>\n",
       "      <td>0</td>\n",
       "      <td>3</td>\n",
       "      <td>male</td>\n",
       "      <td>35.0</td>\n",
       "      <td>0</td>\n",
       "      <td>0</td>\n",
       "      <td>8.0500</td>\n",
       "      <td>S</td>\n",
       "    </tr>\n",
       "  </tbody>\n",
       "</table>\n",
       "</div>"
      ],
      "text/plain": [
       "   Survived  Pclass     Sex   Age  SibSp  Parch     Fare Embarked\n",
       "0         0       3    male  22.0      1      0   7.2500        S\n",
       "1         1       1  female  38.0      1      0  71.2833        C\n",
       "2         1       3  female  26.0      0      0   7.9250        S\n",
       "3         1       1  female  35.0      1      0  53.1000        S\n",
       "4         0       3    male  35.0      0      0   8.0500        S"
      ]
     },
     "execution_count": 6,
     "metadata": {},
     "output_type": "execute_result"
    }
   ],
   "source": [
    "#Drop Cabin (too many missing values), PassengerId, Name and Ticket\n",
    "train_data = train_data.drop(['PassengerId','Name','Ticket','Cabin'], axis=1)\n",
    "test_data = test_data.drop(['Ticket','Cabin'],axis=1)\n",
    "train_data.head()"
   ]
  },
  {
   "cell_type": "markdown",
   "metadata": {
    "papermill": {
     "duration": 0.02542,
     "end_time": "2020-10-31T07:08:27.814605",
     "exception": false,
     "start_time": "2020-10-31T07:08:27.789185",
     "status": "completed"
    },
    "tags": []
   },
   "source": [
    "****Survival Chances based on Gender****"
   ]
  },
  {
   "cell_type": "code",
   "execution_count": 7,
   "metadata": {
    "execution": {
     "iopub.execute_input": "2020-10-31T07:08:27.875061Z",
     "iopub.status.busy": "2020-10-31T07:08:27.874279Z",
     "iopub.status.idle": "2020-10-31T07:08:28.197986Z",
     "shell.execute_reply": "2020-10-31T07:08:28.197254Z"
    },
    "papermill": {
     "duration": 0.358003,
     "end_time": "2020-10-31T07:08:28.198105",
     "exception": false,
     "start_time": "2020-10-31T07:08:27.840102",
     "status": "completed"
    },
    "tags": []
   },
   "outputs": [
    {
     "data": {
      "image/png": "[encoded data removed]",
      "text/plain": [
       "<Figure size 1440x720 with 2 Axes>"
      ]
     },
     "metadata": {
      "needs_background": "light"
     },
     "output_type": "display_data"
    }
   ],
   "source": [
    "fig,a=plt.subplots(1,2,figsize=(20,10))\n",
    "train_data['Survived'].value_counts().plot.pie(explode=[0,0.1],autopct='%.2f%%',ax=a[0])\n",
    "a[0].set_title('Survived vs Dead')\n",
    "a[0].set_ylabel('')\n",
    "sns.countplot('Sex',hue='Survived',data=train_data,ax=a[1])\n",
    "a[1].set_title('Survived vs Dead: Gender Comparison')\n",
    "plt.show()"
   ]
  },
  {
   "cell_type": "markdown",
   "metadata": {
    "papermill": {
     "duration": 0.026687,
     "end_time": "2020-10-31T07:08:28.252206",
     "exception": false,
     "start_time": "2020-10-31T07:08:28.225519",
     "status": "completed"
    },
    "tags": []
   },
   "source": [
    "Less than 40% of passengers (from the training set) survived. From the survivors, it seems that nearly 2/3 were women.\n",
    "\n",
    "Lets calculate the survival rate between the two genders"
   ]
  },
  {
   "cell_type": "code",
   "execution_count": 8,
   "metadata": {
    "execution": {
     "iopub.execute_input": "2020-10-31T07:08:28.318604Z",
     "iopub.status.busy": "2020-10-31T07:08:28.317425Z",
     "iopub.status.idle": "2020-10-31T07:08:28.322811Z",
     "shell.execute_reply": "2020-10-31T07:08:28.322042Z"
    },
    "papermill": {
     "duration": 0.043594,
     "end_time": "2020-10-31T07:08:28.322939",
     "exception": false,
     "start_time": "2020-10-31T07:08:28.279345",
     "status": "completed"
    },
    "tags": []
   },
   "outputs": [
    {
     "name": "stdout",
     "output_type": "stream",
     "text": [
      "Female Survivor rate (%): 74.20382165605095\n",
      "Male Survivor rate (%): 18.890814558058924\n"
     ]
    }
   ],
   "source": [
    "female_survivors = train_data.loc[train_data.Sex == 'female']['Survived']\n",
    "\n",
    "#Sum only includes survivors since non survivors marked as 0\n",
    "female_survival_rate = (sum(female_survivors)/len(female_survivors))*100\n",
    "print(\"Female Survivor rate (%):\", female_survival_rate)\n",
    "\n",
    "male_survivors = train_data.loc[train_data.Sex == 'male']['Survived']\n",
    "\n",
    "#Sum only includes survivors since non survivors marked as 0\n",
    "male_survival_rate = (sum(male_survivors)/len(male_survivors))*100\n",
    "print(\"Male Survivor rate (%):\", male_survival_rate)"
   ]
  },
  {
   "cell_type": "markdown",
   "metadata": {
    "papermill": {
     "duration": 0.02736,
     "end_time": "2020-10-31T07:08:28.378182",
     "exception": false,
     "start_time": "2020-10-31T07:08:28.350822",
     "status": "completed"
    },
    "tags": []
   },
   "source": [
    "Gender seems to be a strong indicator of survival"
   ]
  },
  {
   "cell_type": "markdown",
   "metadata": {
    "papermill": {
     "duration": 0.027498,
     "end_time": "2020-10-31T07:08:28.433554",
     "exception": false,
     "start_time": "2020-10-31T07:08:28.406056",
     "status": "completed"
    },
    "tags": []
   },
   "source": [
    "**Measuring the role of Ticket Class (Pclass) in survival chances**"
   ]
  },
  {
   "cell_type": "code",
   "execution_count": 9,
   "metadata": {
    "execution": {
     "iopub.execute_input": "2020-10-31T07:08:28.504638Z",
     "iopub.status.busy": "2020-10-31T07:08:28.503870Z",
     "iopub.status.idle": "2020-10-31T07:08:28.835012Z",
     "shell.execute_reply": "2020-10-31T07:08:28.835644Z"
    },
    "papermill": {
     "duration": 0.374181,
     "end_time": "2020-10-31T07:08:28.835798",
     "exception": false,
     "start_time": "2020-10-31T07:08:28.461617",
     "status": "completed"
    },
    "tags": []
   },
   "outputs": [
    {
     "data": {
      "image/png": "[encoded data removed]",
      "text/plain": [
       "<Figure size 1440x720 with 2 Axes>"
      ]
     },
     "metadata": {
      "needs_background": "light"
     },
     "output_type": "display_data"
    }
   ],
   "source": [
    "fig,a=plt.subplots(1,2,figsize=(20,10))\n",
    "train_data['Pclass'].value_counts().plot.bar(color=['#76EEC6','#E3CF57','#00FFFF'],ax=a[0])\n",
    "a[0].set_title('Passengers: Pclass')\n",
    "a[0].set_xlabel('Passenger Class')\n",
    "a[0].set_ylabel('No. of Passengers')\n",
    "sns.countplot('Pclass',hue='Survived',data=train_data,ax=a[1])\n",
    "a[1].set_title('Pclass:Survived vs Dead')\n",
    "plt.show()"
   ]
  },
  {
   "cell_type": "markdown",
   "metadata": {
    "papermill": {
     "duration": 0.029136,
     "end_time": "2020-10-31T07:08:28.894157",
     "exception": false,
     "start_time": "2020-10-31T07:08:28.865021",
     "status": "completed"
    },
    "tags": []
   },
   "source": [
    "Despite the number of passengers in Pclass 3 being a lot higher (more than 2x) than 2 or 1, there were roughly the same number of survivors. It would be quite fair to assume that survival priveliges came at a price.\n",
    "\n",
    "Sometimes...money can buy everything =/"
   ]
  },
  {
   "cell_type": "code",
   "execution_count": 10,
   "metadata": {
    "execution": {
     "iopub.execute_input": "2020-10-31T07:08:28.958607Z",
     "iopub.status.busy": "2020-10-31T07:08:28.957823Z",
     "iopub.status.idle": "2020-10-31T07:08:29.532768Z",
     "shell.execute_reply": "2020-10-31T07:08:29.532010Z"
    },
    "papermill": {
     "duration": 0.609624,
     "end_time": "2020-10-31T07:08:29.532899",
     "exception": false,
     "start_time": "2020-10-31T07:08:28.923275",
     "status": "completed"
    },
    "tags": []
   },
   "outputs": [
    {
     "name": "stderr",
     "output_type": "stream",
     "text": [
      "/opt/conda/lib/python3.7/site-packages/seaborn/categorical.py:3669: UserWarning: The `factorplot` function has been renamed to `catplot`. The original name will be removed in a future release. Please update your code. Note that the default `kind` in `factorplot` (`'point'`) has changed `'strip'` in `catplot`.\n",
      "  warnings.warn(msg)\n"
     ]
    },
    {
     "data": {
      "image/png": "[encoded data removed]",
      "text/plain": [
       "<Figure size 430.5x360 with 1 Axes>"
      ]
     },
     "metadata": {
      "needs_background": "light"
     },
     "output_type": "display_data"
    }
   ],
   "source": [
    "sns.factorplot('Pclass','Survived',hue='Sex',data=train_data)\n",
    "plt.show()"
   ]
  },
  {
   "cell_type": "markdown",
   "metadata": {
    "papermill": {
     "duration": 0.030079,
     "end_time": "2020-10-31T07:08:29.593458",
     "exception": false,
     "start_time": "2020-10-31T07:08:29.563379",
     "status": "completed"
    },
    "tags": []
   },
   "source": [
    "The factorplot shows us:\n",
    "\n",
    "- Almost all the women in Pclass 1 survived. The women in Pclas 2 enjoyed almost the same survival rate\n",
    "- The survival rate for women in Pclass 3 drops to nearly half \n",
    "- Men in Pclass 1 also seem to have a low survival rate, but men in Pclass 2 and 3 are the worst off"
   ]
  },
  {
   "cell_type": "markdown",
   "metadata": {
    "papermill": {
     "duration": 0.030007,
     "end_time": "2020-10-31T07:08:29.653838",
     "exception": false,
     "start_time": "2020-10-31T07:08:29.623831",
     "status": "completed"
    },
    "tags": []
   },
   "source": [
    "**Point of Embarkation and Survival odds**"
   ]
  },
  {
   "cell_type": "markdown",
   "metadata": {
    "papermill": {
     "duration": 0.030131,
     "end_time": "2020-10-31T07:08:29.714521",
     "exception": false,
     "start_time": "2020-10-31T07:08:29.684390",
     "status": "completed"
    },
    "tags": []
   },
   "source": [
    "Note:\n",
    "C = Cherbourg, Q = Queenstown, S = Southampton"
   ]
  },
  {
   "cell_type": "code",
   "execution_count": 11,
   "metadata": {
    "execution": {
     "iopub.execute_input": "2020-10-31T07:08:29.800008Z",
     "iopub.status.busy": "2020-10-31T07:08:29.793253Z",
     "iopub.status.idle": "2020-10-31T07:08:29.804699Z",
     "shell.execute_reply": "2020-10-31T07:08:29.803771Z"
    },
    "papermill": {
     "duration": 0.05428,
     "end_time": "2020-10-31T07:08:29.804894",
     "exception": false,
     "start_time": "2020-10-31T07:08:29.750614",
     "status": "completed"
    },
    "tags": []
   },
   "outputs": [
    {
     "name": "stdout",
     "output_type": "stream",
     "text": [
      "<class 'pandas.core.frame.DataFrame'>\n",
      "RangeIndex: 891 entries, 0 to 890\n",
      "Data columns (total 8 columns):\n",
      " #   Column    Non-Null Count  Dtype  \n",
      "---  ------    --------------  -----  \n",
      " 0   Survived  891 non-null    int64  \n",
      " 1   Pclass    891 non-null    int64  \n",
      " 2   Sex       891 non-null    object \n",
      " 3   Age       714 non-null    float64\n",
      " 4   SibSp     891 non-null    int64  \n",
      " 5   Parch     891 non-null    int64  \n",
      " 6   Fare      891 non-null    float64\n",
      " 7   Embarked  889 non-null    object \n",
      "dtypes: float64(2), int64(4), object(2)\n",
      "memory usage: 55.8+ KB\n"
     ]
    }
   ],
   "source": [
    "train_data.info()"
   ]
  },
  {
   "cell_type": "code",
   "execution_count": 12,
   "metadata": {
    "execution": {
     "iopub.execute_input": "2020-10-31T07:08:29.900939Z",
     "iopub.status.busy": "2020-10-31T07:08:29.900140Z",
     "iopub.status.idle": "2020-10-31T07:08:29.904927Z",
     "shell.execute_reply": "2020-10-31T07:08:29.904311Z"
    },
    "papermill": {
     "duration": 0.056428,
     "end_time": "2020-10-31T07:08:29.905048",
     "exception": false,
     "start_time": "2020-10-31T07:08:29.848620",
     "status": "completed"
    },
    "tags": []
   },
   "outputs": [
    {
     "data": {
      "text/plain": [
       "0    S\n",
       "dtype: object"
      ]
     },
     "execution_count": 12,
     "metadata": {},
     "output_type": "execute_result"
    }
   ],
   "source": [
    "#2 values seem to be missing, we can fill it with the mode\n",
    "train_data['Embarked'].mode()"
   ]
  },
  {
   "cell_type": "code",
   "execution_count": 13,
   "metadata": {
    "execution": {
     "iopub.execute_input": "2020-10-31T07:08:29.983641Z",
     "iopub.status.busy": "2020-10-31T07:08:29.982649Z",
     "iopub.status.idle": "2020-10-31T07:08:29.986189Z",
     "shell.execute_reply": "2020-10-31T07:08:29.986772Z"
    },
    "papermill": {
     "duration": 0.049188,
     "end_time": "2020-10-31T07:08:29.986932",
     "exception": false,
     "start_time": "2020-10-31T07:08:29.937744",
     "status": "completed"
    },
    "tags": []
   },
   "outputs": [
    {
     "name": "stdout",
     "output_type": "stream",
     "text": [
      "<class 'pandas.core.frame.DataFrame'>\n",
      "RangeIndex: 891 entries, 0 to 890\n",
      "Data columns (total 8 columns):\n",
      " #   Column    Non-Null Count  Dtype  \n",
      "---  ------    --------------  -----  \n",
      " 0   Survived  891 non-null    int64  \n",
      " 1   Pclass    891 non-null    int64  \n",
      " 2   Sex       891 non-null    object \n",
      " 3   Age       714 non-null    float64\n",
      " 4   SibSp     891 non-null    int64  \n",
      " 5   Parch     891 non-null    int64  \n",
      " 6   Fare      891 non-null    float64\n",
      " 7   Embarked  891 non-null    object \n",
      "dtypes: float64(2), int64(4), object(2)\n",
      "memory usage: 55.8+ KB\n"
     ]
    }
   ],
   "source": [
    "train_data['Embarked'].fillna('S', inplace = True)\n",
    "train_data.info()"
   ]
  },
  {
   "cell_type": "code",
   "execution_count": 14,
   "metadata": {
    "execution": {
     "iopub.execute_input": "2020-10-31T07:08:30.068780Z",
     "iopub.status.busy": "2020-10-31T07:08:30.067153Z",
     "iopub.status.idle": "2020-10-31T07:08:30.359402Z",
     "shell.execute_reply": "2020-10-31T07:08:30.359935Z"
    },
    "papermill": {
     "duration": 0.339518,
     "end_time": "2020-10-31T07:08:30.360099",
     "exception": false,
     "start_time": "2020-10-31T07:08:30.020581",
     "status": "completed"
    },
    "tags": []
   },
   "outputs": [
    {
     "name": "stderr",
     "output_type": "stream",
     "text": [
      "/opt/conda/lib/python3.7/site-packages/seaborn/categorical.py:3669: UserWarning: The `factorplot` function has been renamed to `catplot`. The original name will be removed in a future release. Please update your code. Note that the default `kind` in `factorplot` (`'point'`) has changed `'strip'` in `catplot`.\n",
      "  warnings.warn(msg)\n"
     ]
    },
    {
     "data": {
      "image/png": "[encoded data removed]",
      "text/plain": [
       "<Figure size 360x360 with 1 Axes>"
      ]
     },
     "metadata": {
      "needs_background": "light"
     },
     "output_type": "display_data"
    }
   ],
   "source": [
    "sns.factorplot('Embarked','Survived',data=train_data)\n",
    "plt.show()"
   ]
  },
  {
   "cell_type": "markdown",
   "metadata": {
    "papermill": {
     "duration": 0.033595,
     "end_time": "2020-10-31T07:08:30.427594",
     "exception": false,
     "start_time": "2020-10-31T07:08:30.393999",
     "status": "completed"
    },
    "tags": []
   },
   "source": [
    "Survival Rate seems highest for passengers boarding at Port Cherbourg at around 0.55, while looks to be lowest for Southampton.\n",
    "\n",
    "While the location of embarkation may not seem very relevant on the surface, lets examine their demographics further based on what we already know about survival chances in relation to Pclass and Gender."
   ]
  },
  {
   "cell_type": "code",
   "execution_count": 15,
   "metadata": {
    "execution": {
     "iopub.execute_input": "2020-10-31T07:08:30.506196Z",
     "iopub.status.busy": "2020-10-31T07:08:30.505433Z",
     "iopub.status.idle": "2020-10-31T07:08:30.804623Z",
     "shell.execute_reply": "2020-10-31T07:08:30.803880Z"
    },
    "papermill": {
     "duration": 0.343245,
     "end_time": "2020-10-31T07:08:30.804744",
     "exception": false,
     "start_time": "2020-10-31T07:08:30.461499",
     "status": "completed"
    },
    "tags": []
   },
   "outputs": [
    {
     "data": {
      "text/html": [
       "<style  type=\"text/css\" >\n",
       "#T_e1ae7a14_1b47_11eb_9b28_0242ac130202row0_col0,#T_e1ae7a14_1b47_11eb_9b28_0242ac130202row0_col1,#T_e1ae7a14_1b47_11eb_9b28_0242ac130202row0_col2,#T_e1ae7a14_1b47_11eb_9b28_0242ac130202row0_col3,#T_e1ae7a14_1b47_11eb_9b28_0242ac130202row0_col4,#T_e1ae7a14_1b47_11eb_9b28_0242ac130202row0_col6,#T_e1ae7a14_1b47_11eb_9b28_0242ac130202row0_col7,#T_e1ae7a14_1b47_11eb_9b28_0242ac130202row0_col9,#T_e1ae7a14_1b47_11eb_9b28_0242ac130202row1_col8,#T_e1ae7a14_1b47_11eb_9b28_0242ac130202row3_col3,#T_e1ae7a14_1b47_11eb_9b28_0242ac130202row3_col4,#T_e1ae7a14_1b47_11eb_9b28_0242ac130202row3_col5,#T_e1ae7a14_1b47_11eb_9b28_0242ac130202row3_col8{\n",
       "            background-color:  #333399;\n",
       "            color:  #f1f1f1;\n",
       "        }#T_e1ae7a14_1b47_11eb_9b28_0242ac130202row0_col5{\n",
       "            background-color:  #166ed4;\n",
       "            color:  #f1f1f1;\n",
       "        }#T_e1ae7a14_1b47_11eb_9b28_0242ac130202row0_col8{\n",
       "            background-color:  #1c60c6;\n",
       "            color:  #f1f1f1;\n",
       "        }#T_e1ae7a14_1b47_11eb_9b28_0242ac130202row1_col0{\n",
       "            background-color:  #f1fc96;\n",
       "            color:  #000000;\n",
       "        }#T_e1ae7a14_1b47_11eb_9b28_0242ac130202row1_col1{\n",
       "            background-color:  #a5ed87;\n",
       "            color:  #000000;\n",
       "        }#T_e1ae7a14_1b47_11eb_9b28_0242ac130202row1_col2,#T_e1ae7a14_1b47_11eb_9b28_0242ac130202row3_col1{\n",
       "            background-color:  #0b83e9;\n",
       "            color:  #000000;\n",
       "        }#T_e1ae7a14_1b47_11eb_9b28_0242ac130202row1_col3,#T_e1ae7a14_1b47_11eb_9b28_0242ac130202row2_col3{\n",
       "            background-color:  #fefe98;\n",
       "            color:  #000000;\n",
       "        }#T_e1ae7a14_1b47_11eb_9b28_0242ac130202row1_col4{\n",
       "            background-color:  #aa926b;\n",
       "            color:  #000000;\n",
       "        }#T_e1ae7a14_1b47_11eb_9b28_0242ac130202row1_col5{\n",
       "            background-color:  #35d771;\n",
       "            color:  #000000;\n",
       "        }#T_e1ae7a14_1b47_11eb_9b28_0242ac130202row1_col6{\n",
       "            background-color:  #71e37d;\n",
       "            color:  #000000;\n",
       "        }#T_e1ae7a14_1b47_11eb_9b28_0242ac130202row1_col7{\n",
       "            background-color:  #65e07a;\n",
       "            color:  #000000;\n",
       "        }#T_e1ae7a14_1b47_11eb_9b28_0242ac130202row1_col9,#T_e1ae7a14_1b47_11eb_9b28_0242ac130202row3_col0{\n",
       "            background-color:  #00acc4;\n",
       "            color:  #000000;\n",
       "        }#T_e1ae7a14_1b47_11eb_9b28_0242ac130202row2_col0{\n",
       "            background-color:  #25d36d;\n",
       "            color:  #000000;\n",
       "        }#T_e1ae7a14_1b47_11eb_9b28_0242ac130202row2_col1{\n",
       "            background-color:  #e1f993;\n",
       "            color:  #000000;\n",
       "        }#T_e1ae7a14_1b47_11eb_9b28_0242ac130202row2_col2{\n",
       "            background-color:  #b9f18b;\n",
       "            color:  #000000;\n",
       "        }#T_e1ae7a14_1b47_11eb_9b28_0242ac130202row2_col4{\n",
       "            background-color:  #55dd77;\n",
       "            color:  #000000;\n",
       "        }#T_e1ae7a14_1b47_11eb_9b28_0242ac130202row2_col5,#T_e1ae7a14_1b47_11eb_9b28_0242ac130202row2_col9{\n",
       "            background-color:  #e9fb95;\n",
       "            color:  #000000;\n",
       "        }#T_e1ae7a14_1b47_11eb_9b28_0242ac130202row2_col6{\n",
       "            background-color:  #89e781;\n",
       "            color:  #000000;\n",
       "        }#T_e1ae7a14_1b47_11eb_9b28_0242ac130202row2_col7{\n",
       "            background-color:  #edfb95;\n",
       "            color:  #000000;\n",
       "        }#T_e1ae7a14_1b47_11eb_9b28_0242ac130202row2_col8{\n",
       "            background-color:  #c2b178;\n",
       "            color:  #000000;\n",
       "        }#T_e1ae7a14_1b47_11eb_9b28_0242ac130202row3_col2,#T_e1ae7a14_1b47_11eb_9b28_0242ac130202row3_col9{\n",
       "            background-color:  #2848ae;\n",
       "            color:  #f1f1f1;\n",
       "        }#T_e1ae7a14_1b47_11eb_9b28_0242ac130202row3_col6{\n",
       "            background-color:  #00b4ac;\n",
       "            color:  #000000;\n",
       "        }#T_e1ae7a14_1b47_11eb_9b28_0242ac130202row3_col7{\n",
       "            background-color:  #2058be;\n",
       "            color:  #f1f1f1;\n",
       "        }#T_e1ae7a14_1b47_11eb_9b28_0242ac130202row4_col0,#T_e1ae7a14_1b47_11eb_9b28_0242ac130202row4_col1,#T_e1ae7a14_1b47_11eb_9b28_0242ac130202row4_col2,#T_e1ae7a14_1b47_11eb_9b28_0242ac130202row4_col3,#T_e1ae7a14_1b47_11eb_9b28_0242ac130202row4_col4,#T_e1ae7a14_1b47_11eb_9b28_0242ac130202row4_col5,#T_e1ae7a14_1b47_11eb_9b28_0242ac130202row4_col6,#T_e1ae7a14_1b47_11eb_9b28_0242ac130202row4_col7,#T_e1ae7a14_1b47_11eb_9b28_0242ac130202row4_col8,#T_e1ae7a14_1b47_11eb_9b28_0242ac130202row4_col9{\n",
       "            background-color:  #ffffff;\n",
       "            color:  #000000;\n",
       "        }</style><table id=\"T_e1ae7a14_1b47_11eb_9b28_0242ac130202\" ><thead>    <tr>        <th class=\"blank\" ></th>        <th class=\"index_name level0\" >Embarked</th>        <th class=\"col_heading level0 col0\" colspan=3>C</th>        <th class=\"col_heading level0 col3\" colspan=3>Q</th>        <th class=\"col_heading level0 col6\" colspan=3>S</th>        <th class=\"col_heading level0 col9\" >All</th>    </tr>    <tr>        <th class=\"blank\" ></th>        <th class=\"index_name level1\" >Pclass</th>        <th class=\"col_heading level1 col0\" >1</th>        <th class=\"col_heading level1 col1\" >2</th>        <th class=\"col_heading level1 col2\" >3</th>        <th class=\"col_heading level1 col3\" >1</th>        <th class=\"col_heading level1 col4\" >2</th>        <th class=\"col_heading level1 col5\" >3</th>        <th class=\"col_heading level1 col6\" >1</th>        <th class=\"col_heading level1 col7\" >2</th>        <th class=\"col_heading level1 col8\" >3</th>        <th class=\"col_heading level1 col9\" ></th>    </tr>    <tr>        <th class=\"index_name level0\" >Sex</th>        <th class=\"index_name level1\" >Survived</th>        <th class=\"blank\" ></th>        <th class=\"blank\" ></th>        <th class=\"blank\" ></th>        <th class=\"blank\" ></th>        <th class=\"blank\" ></th>        <th class=\"blank\" ></th>        <th class=\"blank\" ></th>        <th class=\"blank\" ></th>        <th class=\"blank\" ></th>        <th class=\"blank\" ></th>    </tr></thead><tbody>\n",
       "                <tr>\n",
       "                        <th id=\"T_e1ae7a14_1b47_11eb_9b28_0242ac130202level0_row0\" class=\"row_heading level0 row0\" rowspan=2>female</th>\n",
       "                        <th id=\"T_e1ae7a14_1b47_11eb_9b28_0242ac130202level1_row0\" class=\"row_heading level1 row0\" >0</th>\n",
       "                        <td id=\"T_e1ae7a14_1b47_11eb_9b28_0242ac130202row0_col0\" class=\"data row0 col0\" >1</td>\n",
       "                        <td id=\"T_e1ae7a14_1b47_11eb_9b28_0242ac130202row0_col1\" class=\"data row0 col1\" >0</td>\n",
       "                        <td id=\"T_e1ae7a14_1b47_11eb_9b28_0242ac130202row0_col2\" class=\"data row0 col2\" >8</td>\n",
       "                        <td id=\"T_e1ae7a14_1b47_11eb_9b28_0242ac130202row0_col3\" class=\"data row0 col3\" >0</td>\n",
       "                        <td id=\"T_e1ae7a14_1b47_11eb_9b28_0242ac130202row0_col4\" class=\"data row0 col4\" >0</td>\n",
       "                        <td id=\"T_e1ae7a14_1b47_11eb_9b28_0242ac130202row0_col5\" class=\"data row0 col5\" >9</td>\n",
       "                        <td id=\"T_e1ae7a14_1b47_11eb_9b28_0242ac130202row0_col6\" class=\"data row0 col6\" >2</td>\n",
       "                        <td id=\"T_e1ae7a14_1b47_11eb_9b28_0242ac130202row0_col7\" class=\"data row0 col7\" >6</td>\n",
       "                        <td id=\"T_e1ae7a14_1b47_11eb_9b28_0242ac130202row0_col8\" class=\"data row0 col8\" >55</td>\n",
       "                        <td id=\"T_e1ae7a14_1b47_11eb_9b28_0242ac130202row0_col9\" class=\"data row0 col9\" >81</td>\n",
       "            </tr>\n",
       "            <tr>\n",
       "                                <th id=\"T_e1ae7a14_1b47_11eb_9b28_0242ac130202level1_row1\" class=\"row_heading level1 row1\" >1</th>\n",
       "                        <td id=\"T_e1ae7a14_1b47_11eb_9b28_0242ac130202row1_col0\" class=\"data row1 col0\" >42</td>\n",
       "                        <td id=\"T_e1ae7a14_1b47_11eb_9b28_0242ac130202row1_col1\" class=\"data row1 col1\" >7</td>\n",
       "                        <td id=\"T_e1ae7a14_1b47_11eb_9b28_0242ac130202row1_col2\" class=\"data row1 col2\" >15</td>\n",
       "                        <td id=\"T_e1ae7a14_1b47_11eb_9b28_0242ac130202row1_col3\" class=\"data row1 col3\" >1</td>\n",
       "                        <td id=\"T_e1ae7a14_1b47_11eb_9b28_0242ac130202row1_col4\" class=\"data row1 col4\" >2</td>\n",
       "                        <td id=\"T_e1ae7a14_1b47_11eb_9b28_0242ac130202row1_col5\" class=\"data row1 col5\" >24</td>\n",
       "                        <td id=\"T_e1ae7a14_1b47_11eb_9b28_0242ac130202row1_col6\" class=\"data row1 col6\" >48</td>\n",
       "                        <td id=\"T_e1ae7a14_1b47_11eb_9b28_0242ac130202row1_col7\" class=\"data row1 col7\" >61</td>\n",
       "                        <td id=\"T_e1ae7a14_1b47_11eb_9b28_0242ac130202row1_col8\" class=\"data row1 col8\" >33</td>\n",
       "                        <td id=\"T_e1ae7a14_1b47_11eb_9b28_0242ac130202row1_col9\" class=\"data row1 col9\" >233</td>\n",
       "            </tr>\n",
       "            <tr>\n",
       "                        <th id=\"T_e1ae7a14_1b47_11eb_9b28_0242ac130202level0_row2\" class=\"row_heading level0 row2\" rowspan=2>male</th>\n",
       "                        <th id=\"T_e1ae7a14_1b47_11eb_9b28_0242ac130202level1_row2\" class=\"row_heading level1 row2\" >0</th>\n",
       "                        <td id=\"T_e1ae7a14_1b47_11eb_9b28_0242ac130202row2_col0\" class=\"data row2 col0\" >25</td>\n",
       "                        <td id=\"T_e1ae7a14_1b47_11eb_9b28_0242ac130202row2_col1\" class=\"data row2 col1\" >8</td>\n",
       "                        <td id=\"T_e1ae7a14_1b47_11eb_9b28_0242ac130202row2_col2\" class=\"data row2 col2\" >33</td>\n",
       "                        <td id=\"T_e1ae7a14_1b47_11eb_9b28_0242ac130202row2_col3\" class=\"data row2 col3\" >1</td>\n",
       "                        <td id=\"T_e1ae7a14_1b47_11eb_9b28_0242ac130202row2_col4\" class=\"data row2 col4\" >1</td>\n",
       "                        <td id=\"T_e1ae7a14_1b47_11eb_9b28_0242ac130202row2_col5\" class=\"data row2 col5\" >36</td>\n",
       "                        <td id=\"T_e1ae7a14_1b47_11eb_9b28_0242ac130202row2_col6\" class=\"data row2 col6\" >51</td>\n",
       "                        <td id=\"T_e1ae7a14_1b47_11eb_9b28_0242ac130202row2_col7\" class=\"data row2 col7\" >82</td>\n",
       "                        <td id=\"T_e1ae7a14_1b47_11eb_9b28_0242ac130202row2_col8\" class=\"data row2 col8\" >231</td>\n",
       "                        <td id=\"T_e1ae7a14_1b47_11eb_9b28_0242ac130202row2_col9\" class=\"data row2 col9\" >468</td>\n",
       "            </tr>\n",
       "            <tr>\n",
       "                                <th id=\"T_e1ae7a14_1b47_11eb_9b28_0242ac130202level1_row3\" class=\"row_heading level1 row3\" >1</th>\n",
       "                        <td id=\"T_e1ae7a14_1b47_11eb_9b28_0242ac130202row3_col0\" class=\"data row3 col0\" >17</td>\n",
       "                        <td id=\"T_e1ae7a14_1b47_11eb_9b28_0242ac130202row3_col1\" class=\"data row3 col1\" >2</td>\n",
       "                        <td id=\"T_e1ae7a14_1b47_11eb_9b28_0242ac130202row3_col2\" class=\"data row3 col2\" >10</td>\n",
       "                        <td id=\"T_e1ae7a14_1b47_11eb_9b28_0242ac130202row3_col3\" class=\"data row3 col3\" >0</td>\n",
       "                        <td id=\"T_e1ae7a14_1b47_11eb_9b28_0242ac130202row3_col4\" class=\"data row3 col4\" >0</td>\n",
       "                        <td id=\"T_e1ae7a14_1b47_11eb_9b28_0242ac130202row3_col5\" class=\"data row3 col5\" >3</td>\n",
       "                        <td id=\"T_e1ae7a14_1b47_11eb_9b28_0242ac130202row3_col6\" class=\"data row3 col6\" >28</td>\n",
       "                        <td id=\"T_e1ae7a14_1b47_11eb_9b28_0242ac130202row3_col7\" class=\"data row3 col7\" >15</td>\n",
       "                        <td id=\"T_e1ae7a14_1b47_11eb_9b28_0242ac130202row3_col8\" class=\"data row3 col8\" >34</td>\n",
       "                        <td id=\"T_e1ae7a14_1b47_11eb_9b28_0242ac130202row3_col9\" class=\"data row3 col9\" >109</td>\n",
       "            </tr>\n",
       "            <tr>\n",
       "                        <th id=\"T_e1ae7a14_1b47_11eb_9b28_0242ac130202level0_row4\" class=\"row_heading level0 row4\" >All</th>\n",
       "                        <th id=\"T_e1ae7a14_1b47_11eb_9b28_0242ac130202level1_row4\" class=\"row_heading level1 row4\" ></th>\n",
       "                        <td id=\"T_e1ae7a14_1b47_11eb_9b28_0242ac130202row4_col0\" class=\"data row4 col0\" >85</td>\n",
       "                        <td id=\"T_e1ae7a14_1b47_11eb_9b28_0242ac130202row4_col1\" class=\"data row4 col1\" >17</td>\n",
       "                        <td id=\"T_e1ae7a14_1b47_11eb_9b28_0242ac130202row4_col2\" class=\"data row4 col2\" >66</td>\n",
       "                        <td id=\"T_e1ae7a14_1b47_11eb_9b28_0242ac130202row4_col3\" class=\"data row4 col3\" >2</td>\n",
       "                        <td id=\"T_e1ae7a14_1b47_11eb_9b28_0242ac130202row4_col4\" class=\"data row4 col4\" >3</td>\n",
       "                        <td id=\"T_e1ae7a14_1b47_11eb_9b28_0242ac130202row4_col5\" class=\"data row4 col5\" >72</td>\n",
       "                        <td id=\"T_e1ae7a14_1b47_11eb_9b28_0242ac130202row4_col6\" class=\"data row4 col6\" >129</td>\n",
       "                        <td id=\"T_e1ae7a14_1b47_11eb_9b28_0242ac130202row4_col7\" class=\"data row4 col7\" >164</td>\n",
       "                        <td id=\"T_e1ae7a14_1b47_11eb_9b28_0242ac130202row4_col8\" class=\"data row4 col8\" >353</td>\n",
       "                        <td id=\"T_e1ae7a14_1b47_11eb_9b28_0242ac130202row4_col9\" class=\"data row4 col9\" >891</td>\n",
       "            </tr>\n",
       "    </tbody></table>"
      ],
      "text/plain": [
       "<pandas.io.formats.style.Styler at 0x7f3a1f578690>"
      ]
     },
     "execution_count": 15,
     "metadata": {},
     "output_type": "execute_result"
    }
   ],
   "source": [
    "pd.crosstab([train_data.Sex,train_data.Survived],[train_data.Embarked,train_data.Pclass],margins=True).style.background_gradient(cmap='terrain')"
   ]
  },
  {
   "cell_type": "code",
   "execution_count": 16,
   "metadata": {
    "execution": {
     "iopub.execute_input": "2020-10-31T07:08:30.882873Z",
     "iopub.status.busy": "2020-10-31T07:08:30.882078Z",
     "iopub.status.idle": "2020-10-31T07:08:32.161537Z",
     "shell.execute_reply": "2020-10-31T07:08:32.160752Z"
    },
    "papermill": {
     "duration": 1.321969,
     "end_time": "2020-10-31T07:08:32.161669",
     "exception": false,
     "start_time": "2020-10-31T07:08:30.839700",
     "status": "completed"
    },
    "tags": []
   },
   "outputs": [
    {
     "name": "stderr",
     "output_type": "stream",
     "text": [
      "/opt/conda/lib/python3.7/site-packages/seaborn/categorical.py:3669: UserWarning: The `factorplot` function has been renamed to `catplot`. The original name will be removed in a future release. Please update your code. Note that the default `kind` in `factorplot` (`'point'`) has changed `'strip'` in `catplot`.\n",
      "  warnings.warn(msg)\n"
     ]
    },
    {
     "data": {
      "image/png": "[encoded data removed]",
      "text/plain": [
       "<Figure size 1150.5x360 with 3 Axes>"
      ]
     },
     "metadata": {
      "needs_background": "light"
     },
     "output_type": "display_data"
    }
   ],
   "source": [
    "#Visually speaking...\n",
    "sns.factorplot('Pclass','Survived',hue='Sex',col='Embarked',data=train_data)\n",
    "plt.show()"
   ]
  },
  {
   "cell_type": "markdown",
   "metadata": {
    "papermill": {
     "duration": 0.036251,
     "end_time": "2020-10-31T07:08:32.235539",
     "exception": false,
     "start_time": "2020-10-31T07:08:32.199288",
     "status": "completed"
    },
    "tags": []
   },
   "source": [
    "Frm the above cross table and factorplot, we can determine the following:\n",
    "\n",
    "- Southampton had the most passengers from which most were in Pclass 3.\n",
    "\n",
    "- Almost all the passengers boarding from Queenstown were in Pclass 3.\n",
    "\n",
    "- Passengers from Cherbourg were most likely to survive. More than half of them were in Pclass 1. Guess it must be a fancy place...\n",
    "\n",
    "Since it seems highly dependent on Pclass, we wont include it in our final model"
   ]
  },
  {
   "cell_type": "markdown",
   "metadata": {
    "papermill": {
     "duration": 0.036305,
     "end_time": "2020-10-31T07:08:32.308325",
     "exception": false,
     "start_time": "2020-10-31T07:08:32.272020",
     "status": "completed"
    },
    "tags": []
   },
   "source": [
    "We will also include the number of family members in our model since it seems relevant. I will be using a Logistic Regression Model and a Random Forest Model.\n",
    "\n",
    "But first, we will create dummy variables for the categorical variables (\"Pclass\", \"Sex\", \"SibSp\", \"Parch\") so that all the factors are taken into account while creating the model."
   ]
  },
  {
   "cell_type": "code",
   "execution_count": 17,
   "metadata": {
    "execution": {
     "iopub.execute_input": "2020-10-31T07:08:32.400008Z",
     "iopub.status.busy": "2020-10-31T07:08:32.399185Z",
     "iopub.status.idle": "2020-10-31T07:08:32.424260Z",
     "shell.execute_reply": "2020-10-31T07:08:32.423670Z"
    },
    "papermill": {
     "duration": 0.079497,
     "end_time": "2020-10-31T07:08:32.424393",
     "exception": false,
     "start_time": "2020-10-31T07:08:32.344896",
     "status": "completed"
    },
    "tags": []
   },
   "outputs": [
    {
     "data": {
      "text/html": [
       "<div>\n",
       "<style scoped>\n",
       "    .dataframe tbody tr th:only-of-type {\n",
       "        vertical-align: middle;\n",
       "    }\n",
       "\n",
       "    .dataframe tbody tr th {\n",
       "        vertical-align: top;\n",
       "    }\n",
       "\n",
       "    .dataframe thead th {\n",
       "        text-align: right;\n",
       "    }\n",
       "</style>\n",
       "<table border=\"1\" class=\"dataframe\">\n",
       "  <thead>\n",
       "    <tr style=\"text-align: right;\">\n",
       "      <th></th>\n",
       "      <th>SibSp</th>\n",
       "      <th>Parch</th>\n",
       "      <th>Pclass_1</th>\n",
       "      <th>Pclass_2</th>\n",
       "      <th>Pclass_3</th>\n",
       "      <th>Sex_female</th>\n",
       "      <th>Sex_male</th>\n",
       "    </tr>\n",
       "  </thead>\n",
       "  <tbody>\n",
       "    <tr>\n",
       "      <th>0</th>\n",
       "      <td>0</td>\n",
       "      <td>0</td>\n",
       "      <td>0</td>\n",
       "      <td>0</td>\n",
       "      <td>1</td>\n",
       "      <td>0</td>\n",
       "      <td>1</td>\n",
       "    </tr>\n",
       "    <tr>\n",
       "      <th>1</th>\n",
       "      <td>1</td>\n",
       "      <td>0</td>\n",
       "      <td>1</td>\n",
       "      <td>0</td>\n",
       "      <td>0</td>\n",
       "      <td>1</td>\n",
       "      <td>0</td>\n",
       "    </tr>\n",
       "    <tr>\n",
       "      <th>2</th>\n",
       "      <td>0</td>\n",
       "      <td>0</td>\n",
       "      <td>0</td>\n",
       "      <td>0</td>\n",
       "      <td>1</td>\n",
       "      <td>0</td>\n",
       "      <td>1</td>\n",
       "    </tr>\n",
       "    <tr>\n",
       "      <th>3</th>\n",
       "      <td>0</td>\n",
       "      <td>0</td>\n",
       "      <td>1</td>\n",
       "      <td>0</td>\n",
       "      <td>0</td>\n",
       "      <td>0</td>\n",
       "      <td>1</td>\n",
       "    </tr>\n",
       "    <tr>\n",
       "      <th>4</th>\n",
       "      <td>1</td>\n",
       "      <td>1</td>\n",
       "      <td>0</td>\n",
       "      <td>0</td>\n",
       "      <td>1</td>\n",
       "      <td>1</td>\n",
       "      <td>0</td>\n",
       "    </tr>\n",
       "    <tr>\n",
       "      <th>...</th>\n",
       "      <td>...</td>\n",
       "      <td>...</td>\n",
       "      <td>...</td>\n",
       "      <td>...</td>\n",
       "      <td>...</td>\n",
       "      <td>...</td>\n",
       "      <td>...</td>\n",
       "    </tr>\n",
       "    <tr>\n",
       "      <th>413</th>\n",
       "      <td>0</td>\n",
       "      <td>0</td>\n",
       "      <td>0</td>\n",
       "      <td>1</td>\n",
       "      <td>0</td>\n",
       "      <td>0</td>\n",
       "      <td>1</td>\n",
       "    </tr>\n",
       "    <tr>\n",
       "      <th>414</th>\n",
       "      <td>0</td>\n",
       "      <td>0</td>\n",
       "      <td>0</td>\n",
       "      <td>0</td>\n",
       "      <td>1</td>\n",
       "      <td>1</td>\n",
       "      <td>0</td>\n",
       "    </tr>\n",
       "    <tr>\n",
       "      <th>415</th>\n",
       "      <td>0</td>\n",
       "      <td>0</td>\n",
       "      <td>0</td>\n",
       "      <td>0</td>\n",
       "      <td>1</td>\n",
       "      <td>0</td>\n",
       "      <td>1</td>\n",
       "    </tr>\n",
       "    <tr>\n",
       "      <th>416</th>\n",
       "      <td>0</td>\n",
       "      <td>0</td>\n",
       "      <td>0</td>\n",
       "      <td>1</td>\n",
       "      <td>0</td>\n",
       "      <td>0</td>\n",
       "      <td>1</td>\n",
       "    </tr>\n",
       "    <tr>\n",
       "      <th>417</th>\n",
       "      <td>1</td>\n",
       "      <td>1</td>\n",
       "      <td>0</td>\n",
       "      <td>1</td>\n",
       "      <td>0</td>\n",
       "      <td>0</td>\n",
       "      <td>1</td>\n",
       "    </tr>\n",
       "  </tbody>\n",
       "</table>\n",
       "<p>418 rows × 7 columns</p>\n",
       "</div>"
      ],
      "text/plain": [
       "     SibSp  Parch  Pclass_1  Pclass_2  Pclass_3  Sex_female  Sex_male\n",
       "0        0      0         0         0         1           0         1\n",
       "1        1      0         1         0         0           1         0\n",
       "2        0      0         0         0         1           0         1\n",
       "3        0      0         1         0         0           0         1\n",
       "4        1      1         0         0         1           1         0\n",
       "..     ...    ...       ...       ...       ...         ...       ...\n",
       "413      0      0         0         1         0           0         1\n",
       "414      0      0         0         0         1           1         0\n",
       "415      0      0         0         0         1           0         1\n",
       "416      0      0         0         1         0           0         1\n",
       "417      1      1         0         1         0           0         1\n",
       "\n",
       "[418 rows x 7 columns]"
      ]
     },
     "execution_count": 17,
     "metadata": {},
     "output_type": "execute_result"
    }
   ],
   "source": [
    "#Create dummy variables\n",
    "\n",
    "#Convert Pclass from int to objects\n",
    "train_data[\"Pclass\"]= train_data[\"Pclass\"].astype(object) \n",
    "test_data[\"Pclass\"]= train_data[\"Pclass\"].astype(object) \n",
    "\n",
    "\n",
    "features = [\"Pclass\", \"Sex\", \"SibSp\", \"Parch\"]\n",
    "X = pd.get_dummies(train_data[features])\n",
    "X_test = pd.get_dummies(test_data[features])\n",
    "X_test"
   ]
  },
  {
   "cell_type": "code",
   "execution_count": 18,
   "metadata": {
    "execution": {
     "iopub.execute_input": "2020-10-31T07:08:32.509192Z",
     "iopub.status.busy": "2020-10-31T07:08:32.508138Z",
     "iopub.status.idle": "2020-10-31T07:08:32.531514Z",
     "shell.execute_reply": "2020-10-31T07:08:32.530739Z"
    },
    "papermill": {
     "duration": 0.069665,
     "end_time": "2020-10-31T07:08:32.531642",
     "exception": false,
     "start_time": "2020-10-31T07:08:32.461977",
     "status": "completed"
    },
    "tags": []
   },
   "outputs": [
    {
     "data": {
      "text/plain": [
       "0.8002244668911336"
      ]
     },
     "execution_count": 18,
     "metadata": {},
     "output_type": "execute_result"
    }
   ],
   "source": [
    "y = train_data[\"Survived\"]\n",
    "\n",
    "# Logistic Regression\n",
    "LogRegression = LogisticRegression()\n",
    "LogRegression.fit(X, y)\n",
    "pred= LogRegression.predict(X_test)\n",
    "LogRegression.score(X, y)"
   ]
  },
  {
   "cell_type": "code",
   "execution_count": 19,
   "metadata": {
    "execution": {
     "iopub.execute_input": "2020-10-31T07:08:32.619145Z",
     "iopub.status.busy": "2020-10-31T07:08:32.618394Z",
     "iopub.status.idle": "2020-10-31T07:08:32.894742Z",
     "shell.execute_reply": "2020-10-31T07:08:32.895442Z"
    },
    "papermill": {
     "duration": 0.3254,
     "end_time": "2020-10-31T07:08:32.895606",
     "exception": false,
     "start_time": "2020-10-31T07:08:32.570206",
     "status": "completed"
    },
    "tags": []
   },
   "outputs": [
    {
     "data": {
      "text/plain": [
       "0.8159371492704826"
      ]
     },
     "execution_count": 19,
     "metadata": {},
     "output_type": "execute_result"
    }
   ],
   "source": [
    "#Random Forest\n",
    "\n",
    "Rforest = RandomForestClassifier(n_estimators=100, max_depth=5, random_state=1)\n",
    "Rforest.fit(X, y)\n",
    "predictions = Rforest.predict(X_test)\n",
    "Rforest.score(X, y)"
   ]
  },
  {
   "cell_type": "code",
   "execution_count": 20,
   "metadata": {
    "execution": {
     "iopub.execute_input": "2020-10-31T07:08:32.981332Z",
     "iopub.status.busy": "2020-10-31T07:08:32.980544Z",
     "iopub.status.idle": "2020-10-31T07:08:33.289867Z",
     "shell.execute_reply": "2020-10-31T07:08:33.290530Z"
    },
    "papermill": {
     "duration": 0.356221,
     "end_time": "2020-10-31T07:08:33.290693",
     "exception": false,
     "start_time": "2020-10-31T07:08:32.934472",
     "status": "completed"
    },
    "tags": []
   },
   "outputs": [
    {
     "name": "stdout",
     "output_type": "stream",
     "text": [
      "Your submission was successfully saved!\n"
     ]
    }
   ],
   "source": [
    "output = pd.DataFrame({'PassengerId': test_data.PassengerId, 'Survived': predictions})\n",
    "output.to_csv('my_submission.csv', index=False)\n",
    "print(\"Your submission was successfully saved!\")"
   ]
  }
 ],
 "metadata": {
  "kernelspec": {
   "display_name": "Python 3",
   "language": "python",
   "name": "python3"
  },
  "language_info": {
   "codemirror_mode": {
    "name": "ipython",
    "version": 3
   },
   "file_extension": ".py",
   "mimetype": "text/x-python",
   "name": "python",
   "nbconvert_exporter": "python",
   "pygments_lexer": "ipython3",
   "version": "3.7.6"
  },
  "papermill": {
   "duration": 12.610417,
   "end_time": "2020-10-31T07:08:33.437751",
   "environment_variables": {},
   "exception": null,
   "input_path": "__notebook__.ipynb",
   "output_path": "__notebook__.ipynb",
   "parameters": {},
   "start_time": "2020-10-31T07:08:20.827334",
   "version": "2.1.0"
  }
 },
 "nbformat": 4,
 "nbformat_minor": 4
}
